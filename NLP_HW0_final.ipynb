{
  "nbformat": 4,
  "nbformat_minor": 0,
  "metadata": {
    "colab": {
      "name": "NLP_HW0.ipynb",
      "provenance": [],
      "collapsed_sections": []
    },
    "kernelspec": {
      "name": "python3",
      "display_name": "Python 3"
    }
  },
  "cells": [
    {
      "cell_type": "markdown",
      "metadata": {
        "id": "qgTE-GheiukY"
      },
      "source": [
        "Name : Puthucode Krishna Rukmini\r\n",
        "\r\n",
        "Sudent ID : 002579345"
      ]
    },
    {
      "cell_type": "markdown",
      "metadata": {
        "id": "fxkkCd-IBR1T"
      },
      "source": [
        "1. Write a function that finds the factorial of a number. Test the function finding the\r\n",
        "factorial of the number 10."
      ]
    },
    {
      "cell_type": "code",
      "metadata": {
        "colab": {
          "base_uri": "https://localhost:8080/"
        },
        "id": "D3m-L2loBZNG",
        "outputId": "c6a9299a-0885-4887-c82b-614ab651fd04"
      },
      "source": [
        "# Fatorial function.\r\n",
        "def factorial_function(value):\r\n",
        "  if value == 0 or value == 1:\r\n",
        "    factorial = 1\r\n",
        "  else :\r\n",
        "    factorial = value * factorial_function(value - 1)\r\n",
        "  return factorial\r\n",
        "\r\n",
        "\r\n",
        "\r\n",
        "value = int(input(\"enter a value to find the factorial : \"))\r\n",
        "result = factorial_function(value)    # Factorial function call\r\n",
        "print(result)"
      ],
      "execution_count": null,
      "outputs": [
        {
          "output_type": "stream",
          "text": [
            "enter a value to find the factorial : 6\n",
            "720\n"
          ],
          "name": "stdout"
        }
      ]
    },
    {
      "cell_type": "markdown",
      "metadata": {
        "id": "A8gbNiseDRdl"
      },
      "source": [
        "2. Write a function that determines if a number is a prime number. Test the function with\r\n",
        "the following numbers: 3 and 1251.\r\n"
      ]
    },
    {
      "cell_type": "code",
      "metadata": {
        "colab": {
          "base_uri": "https://localhost:8080/"
        },
        "id": "TvnqP1e3DWUZ",
        "outputId": "4e18cc02-6518-4f6a-cc15-51519e4000f8"
      },
      "source": [
        "# Prime or not function\r\n",
        "def prime_function(value):\r\n",
        "  if value > 1 :\r\n",
        "    for i in range(2, value):\r\n",
        "      if value % i == 0 :\r\n",
        "        print(\"not a prime number \")\r\n",
        "        break\r\n",
        "    else:\r\n",
        "      print(\"prime number\")\r\n",
        "  else:\r\n",
        "    print(\"prime number\")\r\n",
        "  \r\n",
        "# Test for 3\r\n",
        "value = int(input(\"enter the value : \"))\r\n",
        "if (value >= 1):\r\n",
        "  prime_function(value)\r\n",
        "else:\r\n",
        "  print(\" number entered is less than 1 \")"
      ],
      "execution_count": null,
      "outputs": [
        {
          "output_type": "stream",
          "text": [
            "enter the value : 3\n",
            "prime number\n"
          ],
          "name": "stdout"
        }
      ]
    },
    {
      "cell_type": "code",
      "metadata": {
        "colab": {
          "base_uri": "https://localhost:8080/"
        },
        "id": "3XHOjR6M-Jjk",
        "outputId": "f14051de-c91f-4478-aade-676473acb8ed"
      },
      "source": [
        "# Test for 1251\r\n",
        "value = int(input(\"enter the value : \"))\r\n",
        "if (value >= 1):\r\n",
        "  prime_function(value)\r\n",
        "else:\r\n",
        "  print(\" number entered is less than 1 \")"
      ],
      "execution_count": null,
      "outputs": [
        {
          "output_type": "stream",
          "text": [
            "enter the value : 1251\n",
            "not a prime number \n"
          ],
          "name": "stdout"
        }
      ]
    },
    {
      "cell_type": "markdown",
      "metadata": {
        "id": "yVd8CLejb6PL"
      },
      "source": [
        "3. Write a function that transposes a matrix. Test with a 3 x 3 identity matrix."
      ]
    },
    {
      "cell_type": "code",
      "metadata": {
        "colab": {
          "base_uri": "https://localhost:8080/"
        },
        "id": "i5ttM_kcWZDb",
        "outputId": "0a3a0838-7c0d-4103-c75f-f73a312bcb38"
      },
      "source": [
        "# Matrix transpose function\r\n",
        "def matrix_transpose_function(matrix_sample):\r\n",
        "  matrix_sample_transpose = [[matrix_sample[i][j] for i in range(len(matrix_sample))] for j in range(len(matrix_sample[0]))]\r\n",
        "  return matrix_sample_transpose\r\n",
        "\r\n",
        "# print matrix function\r\n",
        "def print_matrix(matrix):\r\n",
        "  for row in matrix:\r\n",
        "    print(row)\r\n",
        "\r\n",
        "\r\n",
        "# Test with 3*3 Identity matrix\r\n",
        "matrix = [[1,0,0],[0,1,0],[0,0,1]]\r\n",
        "print(\"Given matrix\")\r\n",
        "print_matrix(matrix)\r\n",
        "print( \"\\nMatrix transpose \")\r\n",
        "print_matrix(matrix_transpose_function(matrix))"
      ],
      "execution_count": null,
      "outputs": [
        {
          "output_type": "stream",
          "text": [
            "Given matrix\n",
            "[1, 0, 0]\n",
            "[0, 1, 0]\n",
            "[0, 0, 1]\n",
            "\n",
            "Matrix transpose \n",
            "[1, 0, 0]\n",
            "[0, 1, 0]\n",
            "[0, 0, 1]\n"
          ],
          "name": "stdout"
        }
      ]
    },
    {
      "cell_type": "markdown",
      "metadata": {
        "id": "wLfxwa3UMBfQ"
      },
      "source": [
        "4. Using Pandas and Numpy, write a piece of code to combine two series into one. \r\n",
        "Test\r\n",
        "your code with:\r\n",
        "np.random.seed(0)\r\n",
        "series1 = pd.Series(np.arange(10))\r\n",
        "series2 = pd.Series(np.arange(26))\r\n",
        "Do not forget to set the seed, or your answer won’t be reproducible."
      ]
    },
    {
      "cell_type": "code",
      "metadata": {
        "colab": {
          "base_uri": "https://localhost:8080/",
          "height": 0
        },
        "id": "FPxUSTSrMQrr",
        "outputId": "94963e8d-b8e3-4516-c8c8-0a14a6b9234f"
      },
      "source": [
        "import pandas as pd\r\n",
        "import numpy as np\r\n",
        "\r\n",
        "np.random.seed(10) # Seed is of no use here as we haven't used any Random selections\r\n",
        "series1 = pd.Series(np.arange(10)) \r\n",
        "series2 = pd.Series(np.arange(26)) \r\n",
        "\r\n",
        "# combined 2 series using concat\r\n",
        "combined_Series = pd.concat([series1,series2],axis=0)\r\n",
        "combined_Series\r\n",
        "\r\n"
      ],
      "execution_count": 6,
      "outputs": [
        {
          "output_type": "execute_result",
          "data": {
            "text/plain": [
              "0      0\n",
              "1      1\n",
              "2      2\n",
              "3      3\n",
              "4      4\n",
              "5      5\n",
              "6      6\n",
              "7      7\n",
              "8      8\n",
              "9      9\n",
              "0      0\n",
              "1      1\n",
              "2      2\n",
              "3      3\n",
              "4      4\n",
              "5      5\n",
              "6      6\n",
              "7      7\n",
              "8      8\n",
              "9      9\n",
              "10    10\n",
              "11    11\n",
              "12    12\n",
              "13    13\n",
              "14    14\n",
              "15    15\n",
              "16    16\n",
              "17    17\n",
              "18    18\n",
              "19    19\n",
              "20    20\n",
              "21    21\n",
              "22    22\n",
              "23    23\n",
              "24    24\n",
              "25    25\n",
              "dtype: int64"
            ]
          },
          "metadata": {
            "tags": []
          },
          "execution_count": 6
        }
      ]
    },
    {
      "cell_type": "code",
      "metadata": {
        "colab": {
          "base_uri": "https://localhost:8080/"
        },
        "id": "ReIKEzcr78Ei",
        "outputId": "038280f0-d171-4cd8-85a1-d408e0c12c96"
      },
      "source": [
        "# combined 2 series using append\r\n",
        "combined_ser_append = series1.append(series2)\r\n",
        "combined_ser_append\r\n",
        "\r\n"
      ],
      "execution_count": null,
      "outputs": [
        {
          "output_type": "execute_result",
          "data": {
            "text/plain": [
              "0      0\n",
              "1      1\n",
              "2      2\n",
              "3      3\n",
              "4      4\n",
              "5      5\n",
              "6      6\n",
              "7      7\n",
              "8      8\n",
              "9      9\n",
              "0      0\n",
              "1      1\n",
              "2      2\n",
              "3      3\n",
              "4      4\n",
              "5      5\n",
              "6      6\n",
              "7      7\n",
              "8      8\n",
              "9      9\n",
              "10    10\n",
              "11    11\n",
              "12    12\n",
              "13    13\n",
              "14    14\n",
              "15    15\n",
              "16    16\n",
              "17    17\n",
              "18    18\n",
              "19    19\n",
              "20    20\n",
              "21    21\n",
              "22    22\n",
              "23    23\n",
              "24    24\n",
              "25    25\n",
              "dtype: int64"
            ]
          },
          "metadata": {
            "tags": []
          },
          "execution_count": 55
        }
      ]
    },
    {
      "cell_type": "code",
      "metadata": {
        "colab": {
          "base_uri": "https://localhost:8080/",
          "height": 0
        },
        "id": "iBDiSD1i8ydD",
        "outputId": "6f3ef215-20ac-43dc-b3eb-a8271418143c"
      },
      "source": [
        "#  combined 2 series without using library\r\n",
        "length_result = len(series1)+len(series2)\r\n",
        "combined_nolibrary = pd.Series(dtype= 'int',index = range(length_result))\r\n",
        "\r\n",
        "for i in range(length_result):\r\n",
        "  if i<len(series1):\r\n",
        "    combined_nolibrary[i]= series1[i]\r\n",
        "  else:\r\n",
        "    combined_nolibrary[i]=series2[i-len(series1)]\r\n",
        "combined_nolibrary"
      ],
      "execution_count": 19,
      "outputs": [
        {
          "output_type": "execute_result",
          "data": {
            "text/plain": [
              "0      0\n",
              "1      1\n",
              "2      2\n",
              "3      3\n",
              "4      4\n",
              "5      5\n",
              "6      6\n",
              "7      7\n",
              "8      8\n",
              "9      9\n",
              "10     0\n",
              "11     1\n",
              "12     2\n",
              "13     3\n",
              "14     4\n",
              "15     5\n",
              "16     6\n",
              "17     7\n",
              "18     8\n",
              "19     9\n",
              "20    10\n",
              "21    11\n",
              "22    12\n",
              "23    13\n",
              "24    14\n",
              "25    15\n",
              "26    16\n",
              "27    17\n",
              "28    18\n",
              "29    19\n",
              "30    20\n",
              "31    21\n",
              "32    22\n",
              "33    23\n",
              "34    24\n",
              "35    25\n",
              "dtype: int64"
            ]
          },
          "metadata": {
            "tags": []
          },
          "execution_count": 19
        }
      ]
    },
    {
      "cell_type": "markdown",
      "metadata": {
        "id": "1vJ_CTcfTqLC"
      },
      "source": [
        "5. Using pandas, write a piece of code to convert the first character of each element in a\r\n",
        "series to uppercase. Test your code with:\r\n",
        "series = pd.Series(['nlp', 'will', 'be', 'easy?'])"
      ]
    },
    {
      "cell_type": "code",
      "metadata": {
        "id": "2Sm2T49L8xa3",
        "colab": {
          "base_uri": "https://localhost:8080/"
        },
        "outputId": "a45bf6db-5d4e-40e4-cf4e-fbd47ed39acf"
      },
      "source": [
        "import pandas as pd\r\n",
        "import numpy as np\r\n",
        "\r\n",
        "series = pd.Series(['nlp', 'will', 'be', 'easy?'])\r\n",
        "\r\n",
        "# converted first character of elements to uppercase using capitalize\r\n",
        "\r\n",
        "Capitalized_series = series.str.capitalize()\r\n",
        "Capitalized_series"
      ],
      "execution_count": null,
      "outputs": [
        {
          "output_type": "execute_result",
          "data": {
            "text/plain": [
              "0      Nlp\n",
              "1     Will\n",
              "2       Be\n",
              "3    Easy?\n",
              "dtype: object"
            ]
          },
          "metadata": {
            "tags": []
          },
          "execution_count": 12
        }
      ]
    },
    {
      "cell_type": "code",
      "metadata": {
        "id": "BfX6mh71Tr9w",
        "colab": {
          "base_uri": "https://localhost:8080/"
        },
        "outputId": "9ac60228-ec21-44fb-830e-06b60c3c11d3"
      },
      "source": [
        "# converted first character of elements to uppercase without using library\r\n",
        "\r\n",
        "dict_alphabets = {'a':'A','b':'B','c':'C','d':'D','e':'E','f':'F','g':'G','h':'H','i':'I','j':'J','k':'K','l':'L','m':'M','n':'N',\r\n",
        "                  'o':'O','p':'P','q':'Q','r':'R','s':'S','t':'T','u':'U','v':'V','w':'W','x':'X','y':'Y','z':'Z'}\r\n",
        "List_series = []\r\n",
        "for ele in series:\r\n",
        "  List_series.append(dict_alphabets[ele[0]]+ele[1:])\r\n",
        "\r\n",
        "Result_Capitalized_Series = pd.Series(List_series)\r\n",
        "Result_Capitalized_Series\r\n"
      ],
      "execution_count": null,
      "outputs": [
        {
          "output_type": "execute_result",
          "data": {
            "text/plain": [
              "0      Nlp\n",
              "1     Will\n",
              "2       Be\n",
              "3    Easy?\n",
              "dtype: object"
            ]
          },
          "metadata": {
            "tags": []
          },
          "execution_count": 56
        }
      ]
    },
    {
      "cell_type": "markdown",
      "metadata": {
        "id": "YxFrwYb5tXCu"
      },
      "source": [
        "Bonus: Using pandas, write a piece of code to get the frequency of unique values in the\r\n",
        "entire dataframe (not using built in functions). Test your code with:\r\n",
        "dataFrame = pd.DataFrame(np.random.randint(5, 10, 20).reshape(-1, 4), columns = list('abcd'))"
      ]
    },
    {
      "cell_type": "code",
      "metadata": {
        "colab": {
          "base_uri": "https://localhost:8080/",
          "height": 204
        },
        "id": "TpY7uaDTuCFH",
        "outputId": "c896ddd9-e48c-4082-ba22-f2ca51ee4169"
      },
      "source": [
        "import pandas as pd\r\n",
        "import numpy as np\r\n",
        "\r\n",
        "np.random.seed(5)   # Seed can be used here as we are opting Random value to keep the result constant\r\n",
        "\r\n",
        "dataFrame = pd.DataFrame(np.random.randint(5, 10, 20).reshape(-1, 4), columns = list('abcd'))\r\n",
        "dataFrame"
      ],
      "execution_count": null,
      "outputs": [
        {
          "output_type": "execute_result",
          "data": {
            "text/html": [
              "<div>\n",
              "<style scoped>\n",
              "    .dataframe tbody tr th:only-of-type {\n",
              "        vertical-align: middle;\n",
              "    }\n",
              "\n",
              "    .dataframe tbody tr th {\n",
              "        vertical-align: top;\n",
              "    }\n",
              "\n",
              "    .dataframe thead th {\n",
              "        text-align: right;\n",
              "    }\n",
              "</style>\n",
              "<table border=\"1\" class=\"dataframe\">\n",
              "  <thead>\n",
              "    <tr style=\"text-align: right;\">\n",
              "      <th></th>\n",
              "      <th>a</th>\n",
              "      <th>b</th>\n",
              "      <th>c</th>\n",
              "      <th>d</th>\n",
              "    </tr>\n",
              "  </thead>\n",
              "  <tbody>\n",
              "    <tr>\n",
              "      <th>0</th>\n",
              "      <td>8</td>\n",
              "      <td>5</td>\n",
              "      <td>6</td>\n",
              "      <td>5</td>\n",
              "    </tr>\n",
              "    <tr>\n",
              "      <th>1</th>\n",
              "      <td>9</td>\n",
              "      <td>8</td>\n",
              "      <td>5</td>\n",
              "      <td>5</td>\n",
              "    </tr>\n",
              "    <tr>\n",
              "      <th>2</th>\n",
              "      <td>9</td>\n",
              "      <td>6</td>\n",
              "      <td>5</td>\n",
              "      <td>8</td>\n",
              "    </tr>\n",
              "    <tr>\n",
              "      <th>3</th>\n",
              "      <td>9</td>\n",
              "      <td>8</td>\n",
              "      <td>6</td>\n",
              "      <td>9</td>\n",
              "    </tr>\n",
              "    <tr>\n",
              "      <th>4</th>\n",
              "      <td>7</td>\n",
              "      <td>6</td>\n",
              "      <td>6</td>\n",
              "      <td>7</td>\n",
              "    </tr>\n",
              "  </tbody>\n",
              "</table>\n",
              "</div>"
            ],
            "text/plain": [
              "   a  b  c  d\n",
              "0  8  5  6  5\n",
              "1  9  8  5  5\n",
              "2  9  6  5  8\n",
              "3  9  8  6  9\n",
              "4  7  6  6  7"
            ]
          },
          "metadata": {
            "tags": []
          },
          "execution_count": 43
        }
      ]
    },
    {
      "cell_type": "code",
      "metadata": {
        "colab": {
          "base_uri": "https://localhost:8080/"
        },
        "id": "myyPXdQH3emg",
        "outputId": "bdbe22e9-2521-4b22-863f-aff20f51c377"
      },
      "source": [
        "dict_count_value = {}\r\n",
        "\r\n",
        "for row in dataFrame.values:\r\n",
        "  for col in row:\r\n",
        "    dict_count_value[col]= dict_count_value.get(col,0) + 1\r\n",
        "print(dict_count_values)"
      ],
      "execution_count": null,
      "outputs": [
        {
          "output_type": "stream",
          "text": [
            "{6: 5, 9: 4, 5: 6, 8: 3, 7: 2}\n"
          ],
          "name": "stdout"
        }
      ]
    }
  ]
}